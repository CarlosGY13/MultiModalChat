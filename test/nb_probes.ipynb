{
  "cells": [
    {
      "cell_type": "code",
      "execution_count": 9,
      "metadata": {
        "colab": {
          "base_uri": "https://localhost:8080/"
        },
        "id": "5QLk6UGvlPoE",
        "outputId": "87ae6cb0-1fd7-41fe-b102-8f298b639c7b"
      },
      "outputs": [
        {
          "name": "stdout",
          "output_type": "stream",
          "text": [
            "Note: you may need to restart the kernel to use updated packages.\n"
          ]
        },
        {
          "name": "stderr",
          "output_type": "stream",
          "text": [
            "ERROR: Could not find a version that satisfies the requirement IPython.core.display (from versions: none)\n",
            "ERROR: No matching distribution found for IPython.core.display\n"
          ]
        }
      ],
      "source": [
        "pip install IPython.core.display"
      ]
    },
    {
      "cell_type": "code",
      "execution_count": 5,
      "metadata": {
        "colab": {
          "base_uri": "https://localhost:8080/"
        },
        "id": "-94nx8c-lmou",
        "outputId": "f381d32a-1b55-4fce-e5c7-366b76c6cf39"
      },
      "outputs": [
        {
          "name": "stdout",
          "output_type": "stream",
          "text": [
            "Choice(finish_reason='stop', index=0, logprobs=None, message=ChatCompletionMessage(content='Los resultados médicos indican lo siguiente:\\n\\n1. **Leucocitos:** Normal (4.9 dentro del rango 4.0 - 10.0)\\n2. **Eritrocitos:** Normal (5.11 dentro del rango 4.50 - 6.50)\\n3. **Hemoglobina:** Normal (16.7 dentro del rango 13.5 - 18.0)\\n4. **Hematocrito:** Normal (50.9 dentro del rango 36.0 - 49.2)\\n5. **Volumen Corpuscular Medio:** Normal (99 dentro del rango 76 - 99)\\n6. **HGB Corpuscular Media:** Normal (32.8 dentro del rango 27.0 - 33.0)\\n7. **Cont. Med. HGB Corpuscular:** Normal (32.9 dentro del rango 32.0 - 36.0)\\n8. **Plaquetas:** Normal (186 dentro del rango 150 - 450)\\n9. **Linfocitos:** Normal (55 dentro del rango 21.0 - 50.0)\\n10. **Monocitos:** Normal (3 dentro del rango 2.0 - 10.0)\\n11. **Eosinófilos:** Normal (2 dentro del rango 0.0 - 7.0)\\n12. **Basófilos:** Normal (0 dentro del rango 0.0 - 2.0)\\n13. **Neutrófilos:** Normal (40 dentro del rango 35.0 - 70.0)\\n14. **Bandas:** Normal (0 dentro del rango 0.0 - 3.0)\\n15. **Segmentados:** Normal (40 dentro del rango 35.0 - 70.0)\\n16. **Diferencial:** Normal (100 dentro del rango 100.0 - 100.0)\\n\\n**Conclusión:** Todos los resultados son normales. ¡Estás bien!\\n\\n---\\n\\n**En Shipibo-Konibo:**\\n\\nIreni: Chikoni, matse yate reni. Nete kosekato koshikoni. ¡Boga siki!', refusal=None, role='assistant', audio=None, function_call=None, tool_calls=None))\n"
          ]
        }
      ],
      "source": [
        "import base64\n",
        "from openai import OpenAI\n",
        "from dotenv import load_dotenv\n",
        "import os\n",
        "\n",
        "api_key = os.getenv(\"OPENAI_API_KEY\")\n",
        "\n",
        "client = OpenAI(api_key=api_key)\n",
        "\n",
        "# Function to encode the image\n",
        "def encode_image(image_path):\n",
        "    with open(image_path, \"rb\") as image_file:\n",
        "        return base64.b64encode(image_file.read()).decode(\"utf-8\")\n",
        "\n",
        "\n",
        "# Path to your image\n",
        "image_path = \"C:/Users/User/Documents/GitHub/MultiModalChat/imgs/probe2.jpeg\"\n",
        "\n",
        "# Getting the Base64 string\n",
        "base64_image = encode_image(image_path)\n",
        "\n",
        "try:\n",
        "  response = client.chat.completions.create(\n",
        "        model=\"gpt-4o-mini\",\n",
        "        messages=[\n",
        "            {\n",
        "                \"role\": \"user\",\n",
        "                \"content\": [\n",
        "                    {\n",
        "                        \"type\": \"text\",\n",
        "                        \"text\": (\n",
        "                            \"Analiza los resultados médicos en la imagen y \"\n",
        "                            \"brinda una respuesta clara y sencilla:\\n\"\n",
        "                            \"- Si los resultados son normales, confirma que están bien.\\n\"\n",
        "                            \"- Si hay valores anómalos, da una recomendación básica.\\n\"\n",
        "                            \"- La respuesta debe darse en ESPAÑOL y también en SHIPIBO-KONIBO.\\n\"\n",
        "                            \"Ejemplo de recomendación: 'Tu nivel de glucosa está alto, es recomendable reducir el consumo de azúcar y hacer ejercicio.'\"\n",
        "                        ),\n",
        "                    },\n",
        "                    {\n",
        "                        \"type\": \"image_url\",\n",
        "                        \"image_url\": {\"url\": f\"data:image/jpeg;base64,{base64_image}\"},\n",
        "                    },\n",
        "                ],\n",
        "            }\n",
        "        ],\n",
        "    )\n",
        "  print(response.choices[0])\n",
        "except FileNotFoundError:\n",
        "    print(\"Error: La imagen no se encontró en la ruta especificada.\")\n",
        "except Exception as e:\n",
        "    print(f\"Error: {e}\")"
      ]
    },
    {
      "cell_type": "code",
      "execution_count": 8,
      "metadata": {
        "id": "uLjbZSuinR4T"
      },
      "outputs": [
        {
          "name": "stderr",
          "output_type": "stream",
          "text": [
            "C:\\Users\\User\\AppData\\Local\\Temp\\ipykernel_21928\\162736475.py:2: DeprecationWarning: Importing display from IPython.core.display is deprecated since IPython 7.14, please import from IPython.display\n",
            "  from IPython.core.display import display, HTML\n"
          ]
        }
      ],
      "source": [
        "import markdown\n",
        "from IPython.core.display import display, HTML\n",
        "\n",
        "def mostrar_markdown(texto):\n",
        "    \"\"\"Convierte el texto en formato Markdown y lo muestra en un entorno Jupyter Notebook.\"\"\"\n",
        "    html = markdown.markdown(texto)\n",
        "    display(HTML(html))"
      ]
    },
    {
      "cell_type": "code",
      "execution_count": 23,
      "metadata": {
        "colab": {
          "base_uri": "https://localhost:8080/",
          "height": 447
        },
        "id": "2oHLnbX4oAZF",
        "outputId": "540d20de-99f0-4c0a-89f2-0d619258cd39"
      },
      "outputs": [
        {
          "data": {
            "text/html": [
              "<p><strong>Análisis de Resultados Médicos:</strong></p>\n",
              "<p>Los resultados de la hemato­logía presentan algunos valores que se encuentran fuera de los rangos de referencia:</p>\n",
              "<ol>\n",
              "<li><strong>Hematocrito (50.9%)</strong>: Este valor está ligeramente por encima del rango normal (36.0% - 49.2%).</li>\n",
              "</ol>\n",
              "<p><strong>Recomendación</strong>: Es recomendable mantener una adecuada hidratación y evitar el consumo excesivo de alimentos salados.</p>\n",
              "<ol>\n",
              "<li><strong>Linfocitos (55%)</strong>: Este valor está por encima del rango normal (21.0% - 50.0%).</li>\n",
              "</ol>\n",
              "<p><strong>Recomendación</strong>: Podría ser útil consultar a un médico para evaluar posibles infecciones o condiciones subyacentes.</p>\n",
              "<p>Todos los demás valores están dentro de los límites normales.</p>\n",
              "<hr />\n",
              "<p><strong>Shipibo-Konibo:</strong></p>\n",
              "<p><strong>Waku Noa Ikarin:</strong></p>\n",
              "<p>Hematologiake ašodi noka soba, peino ka:</p>\n",
              "<ol>\n",
              "<li><strong>Hematocrito (50.9%)</strong>: Ino ya kene kene ri ni tei (36.0% - 49.2%).</li>\n",
              "</ol>\n",
              "<p><strong>Nokira</strong>: Hiki juwa mu fuka, meja bora i śoroti jakin.</p>\n",
              "<ol>\n",
              "<li><strong>Linfocitos (55%)</strong>: Ino ya kene kene ri ni tei (21.0% - 50.0%).</li>\n",
              "</ol>\n",
              "<p><strong>Nokira</strong>: Ika uini sujti mu yuki zueniko oja asiri yo diti keicha.</p>\n",
              "<p>Arawa no kene no ja wi ju jake.</p>"
            ],
            "text/plain": [
              "<IPython.core.display.HTML object>"
            ]
          },
          "metadata": {},
          "output_type": "display_data"
        }
      ],
      "source": [
        "mostrar_markdown(response.choices[0].message.content)"
      ]
    },
    {
      "cell_type": "code",
      "execution_count": null,
      "metadata": {
        "id": "fKQynsHfoX3h"
      },
      "outputs": [],
      "source": []
    }
  ],
  "metadata": {
    "accelerator": "GPU",
    "colab": {
      "gpuType": "T4",
      "provenance": []
    },
    "kernelspec": {
      "display_name": "ocr-llm",
      "language": "python",
      "name": "python3"
    },
    "language_info": {
      "codemirror_mode": {
        "name": "ipython",
        "version": 3
      },
      "file_extension": ".py",
      "mimetype": "text/x-python",
      "name": "python",
      "nbconvert_exporter": "python",
      "pygments_lexer": "ipython3",
      "version": "3.13.1"
    }
  },
  "nbformat": 4,
  "nbformat_minor": 0
}
